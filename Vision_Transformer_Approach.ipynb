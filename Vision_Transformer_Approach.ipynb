{
  "nbformat": 4,
  "nbformat_minor": 0,
  "metadata": {
    "colab": {
      "provenance": []
    },
    "kernelspec": {
      "name": "python3",
      "display_name": "Python 3"
    },
    "language_info": {
      "name": "python"
    }
  },
  "cells": [
    {
      "cell_type": "code",
      "source": [
        "\"\"\"\n",
        "Title: Image classification with Vision Transformer\n",
        "Author: Maya Seale\n",
        "Date created: 2023/11/03\n",
        "Last modified: 2023/11/03\n",
        "Description: Implementing the Vision Transformer (ViT) model for image classification.\n",
        "\n",
        "\n",
        "\n",
        "\n",
        "## Introduction\n",
        "\n",
        "This notebook adapts Khalid Salama's implemention (https://github.com/keras-team/keras-io/blob/master/examples/vision/image_classification_with_vision_transformer.py)\n",
        "which is an implementation of the [Vision Transformer (ViT)](https://arxiv.org/abs/2010.11929)\n",
        "model by Alexey Dosovitskiy et al. for image classification.\n",
        "\n",
        "Here, I test it on a smaller data set than the one it was intended for (CIFAR-100), the Monkey Images Dataset\n",
        "The ViT model applies the Transformer architecture with self-attention to sequences of\n",
        "image patches, without using convolution layers.\n",
        "\n",
        "\"\"\""
      ],
      "metadata": {
        "colab": {
          "base_uri": "https://localhost:8080/",
          "height": 107
        },
        "id": "nkOtq5OWXANa",
        "outputId": "599a1d47-c1ab-40d0-b73f-9616ae5420c0"
      },
      "execution_count": 4,
      "outputs": [
        {
          "output_type": "execute_result",
          "data": {
            "text/plain": [
              "\"\\nTitle: Image classification with Vision Transformer\\nAuthor: Maya Seale\\nDate created: 2023/11/03\\nLast modified: 2023/11/03\\nDescription: Implementing the Vision Transformer (ViT) model for image classification.\\n\\n\\n\\n\\n## Introduction\\n\\nThis notebook adapts Khalid Salama's implemention (https://github.com/keras-team/keras-io/blob/master/examples/vision/image_classification_with_vision_transformer.py) \\nwhich is an implementation of the [Vision Transformer (ViT)](https://arxiv.org/abs/2010.11929)\\nmodel by Alexey Dosovitskiy et al. for image classification.\\n\\nHere, I test it on a smaller data set than the one it was intended for (CIFAR-100), the Monkey Images Dataset \\nThe ViT model applies the Transformer architecture with self-attention to sequences of\\nimage patches, without using convolution layers.\\n\\n\""
            ],
            "application/vnd.google.colaboratory.intrinsic+json": {
              "type": "string"
            }
          },
          "metadata": {},
          "execution_count": 4
        }
      ]
    },
    {
      "cell_type": "code",
      "source": [
        "pip install -U tensorflow-addons\n"
      ],
      "metadata": {
        "colab": {
          "base_uri": "https://localhost:8080/"
        },
        "id": "2B4nntfVBKG4",
        "outputId": "9d93a834-8a37-49cf-e9ae-030ffbeacf2a"
      },
      "execution_count": 5,
      "outputs": [
        {
          "output_type": "stream",
          "name": "stdout",
          "text": [
            "Collecting tensorflow-addons\n",
            "  Downloading tensorflow_addons-0.22.0-cp310-cp310-manylinux_2_17_x86_64.manylinux2014_x86_64.whl (612 kB)\n",
            "\u001b[2K     \u001b[90m━━━━━━━━━━━━━━━━━━━━━━━━━━━━━━━━━━━━━━━━\u001b[0m \u001b[32m612.3/612.3 kB\u001b[0m \u001b[31m3.8 MB/s\u001b[0m eta \u001b[36m0:00:00\u001b[0m\n",
            "\u001b[?25hRequirement already satisfied: packaging in /usr/local/lib/python3.10/dist-packages (from tensorflow-addons) (23.2)\n",
            "Collecting typeguard<3.0.0,>=2.7 (from tensorflow-addons)\n",
            "  Downloading typeguard-2.13.3-py3-none-any.whl (17 kB)\n",
            "Installing collected packages: typeguard, tensorflow-addons\n",
            "Successfully installed tensorflow-addons-0.22.0 typeguard-2.13.3\n"
          ]
        }
      ]
    },
    {
      "cell_type": "code",
      "execution_count": 6,
      "metadata": {
        "colab": {
          "base_uri": "https://localhost:8080/"
        },
        "id": "XcHlhIkwm6ya",
        "outputId": "d710671c-23cc-4eb9-e031-37b744114356"
      },
      "outputs": [
        {
          "output_type": "stream",
          "name": "stderr",
          "text": [
            "/usr/local/lib/python3.10/dist-packages/tensorflow_addons/utils/tfa_eol_msg.py:23: UserWarning: \n",
            "\n",
            "TensorFlow Addons (TFA) has ended development and introduction of new features.\n",
            "TFA has entered a minimal maintenance and release mode until a planned end of life in May 2024.\n",
            "Please modify downstream libraries to take dependencies from other repositories in our TensorFlow community (e.g. Keras, Keras-CV, and Keras-NLP). \n",
            "\n",
            "For more information see: https://github.com/tensorflow/addons/issues/2807 \n",
            "\n",
            "  warnings.warn(\n"
          ]
        }
      ],
      "source": [
        "import pandas as pd\n",
        "import tensorflow as tf\n",
        "from tensorflow import keras\n",
        "from tensorflow.keras import layers\n",
        "import tensorflow_addons as tfa\n",
        "import os\n",
        "import csv\n",
        "import matplotlib.pyplot as plt\n",
        "from matplotlib import figure\n",
        "import numpy as np"
      ]
    },
    {
      "cell_type": "code",
      "source": [
        "url = \"https://storage.googleapis.com/doggies-doggies/Monkeys.zip\"\n",
        "pathto = \"/content/monkey\"\n",
        "path = keras.utils.get_file(\"Monkeys.zip\",origin = url)\n",
        "import zipfile\n",
        "with zipfile.ZipFile(path, 'r') as zip_ref:\n",
        "    zip_ref.extractall(pathto)\n"
      ],
      "metadata": {
        "colab": {
          "base_uri": "https://localhost:8080/"
        },
        "id": "f4yQXgvNm74u",
        "outputId": "f1114f2e-00c1-4f1f-8dbc-aaffef833434"
      },
      "execution_count": 7,
      "outputs": [
        {
          "output_type": "stream",
          "name": "stdout",
          "text": [
            "Downloading data from https://storage.googleapis.com/doggies-doggies/Monkeys.zip\n",
            "573619322/573619322 [==============================] - 6s 0us/step\n"
          ]
        }
      ]
    },
    {
      "cell_type": "code",
      "source": [
        "train_dir = os.path.join(pathto, 'training/training')\n",
        "validation_dir = os.path.join(pathto, 'validation/validation')\n",
        "train_dataset = tf.keras.utils.image_dataset_from_directory( train_dir, labels=\"inferred\",color_mode=\"rgb\", image_size=(72,72), batch_size= 30)"
      ],
      "metadata": {
        "colab": {
          "base_uri": "https://localhost:8080/"
        },
        "id": "x2CGtE_Bm81a",
        "outputId": "47a984f8-d13d-4a3e-fc89-00c474611711"
      },
      "execution_count": 8,
      "outputs": [
        {
          "output_type": "stream",
          "name": "stdout",
          "text": [
            "Found 1097 files belonging to 10 classes.\n"
          ]
        }
      ]
    },
    {
      "cell_type": "code",
      "source": [
        "\n",
        "validation_dataset = tf.keras.utils.image_dataset_from_directory( validation_dir, labels=\"inferred\",color_mode=\"rgb\", image_size=(72,72), batch_size= 30)"
      ],
      "metadata": {
        "colab": {
          "base_uri": "https://localhost:8080/"
        },
        "id": "TiAgUyQbnCfl",
        "outputId": "1353dd6a-a4d5-4f26-c0fb-c7ff95ec3e47"
      },
      "execution_count": 9,
      "outputs": [
        {
          "output_type": "stream",
          "name": "stdout",
          "text": [
            "Found 272 files belonging to 10 classes.\n"
          ]
        }
      ]
    },
    {
      "cell_type": "code",
      "source": [
        "train_dataset.class_names = [\"Mantled Howler\",\"Patas Monkey\",\"Bald Uakari\",\"Japanese Macaque\", \"Pygmy Marmoset\",\"White Headed Capuchin\",\"Silvery Marmoset\", \"Common Squirrel Monkey\", \"Black Headed Night Monkey\",\"Nilgiri Langur\"]\n"
      ],
      "metadata": {
        "id": "KVL4kbzPnERv"
      },
      "execution_count": 10,
      "outputs": []
    },
    {
      "cell_type": "code",
      "source": [
        "val_batches = tf.data.experimental.cardinality(validation_dataset)\n",
        "val_batches"
      ],
      "metadata": {
        "colab": {
          "base_uri": "https://localhost:8080/"
        },
        "id": "DHVOcL1InHhv",
        "outputId": "cf615c00-f8ca-47d8-d1b7-8a8c83814b82"
      },
      "execution_count": 11,
      "outputs": [
        {
          "output_type": "execute_result",
          "data": {
            "text/plain": [
              "<tf.Tensor: shape=(), dtype=int64, numpy=10>"
            ]
          },
          "metadata": {},
          "execution_count": 11
        }
      ]
    },
    {
      "cell_type": "code",
      "source": [
        "test_dataset = validation_dataset.take(val_batches // 5)\n",
        "validation_dataset = validation_dataset.skip(val_batches // 5)\n",
        "print('Number of validation batches: %d' % tf.data.experimental.cardinality(validation_dataset))\n",
        "print('Number of test batches: %d' % tf.data.experimental.cardinality(test_dataset))"
      ],
      "metadata": {
        "colab": {
          "base_uri": "https://localhost:8080/"
        },
        "id": "HNil1ljinOGG",
        "outputId": "9b38154d-2b0c-4cdb-9496-05a966c8e786"
      },
      "execution_count": 12,
      "outputs": [
        {
          "output_type": "stream",
          "name": "stdout",
          "text": [
            "Number of validation batches: 8\n",
            "Number of test batches: 2\n"
          ]
        }
      ]
    },
    {
      "cell_type": "code",
      "source": [
        "print('Number of test batches: %d' % tf.data.experimental.cardinality(train_dataset))"
      ],
      "metadata": {
        "colab": {
          "base_uri": "https://localhost:8080/"
        },
        "id": "8VJ2E_lZhnp0",
        "outputId": "2ccff722-ac65-4644-d61c-c0dc28cdb195"
      },
      "execution_count": 13,
      "outputs": [
        {
          "output_type": "stream",
          "name": "stdout",
          "text": [
            "Number of test batches: 37\n"
          ]
        }
      ]
    },
    {
      "cell_type": "code",
      "source": [
        "AUTOTUNE = tf.data.AUTOTUNE\n",
        "train_dataset = train_dataset.prefetch(buffer_size=AUTOTUNE)\n",
        "validation_dataset = validation_dataset.prefetch(buffer_size=AUTOTUNE)\n",
        "test_dataset = test_dataset.prefetch(buffer_size=AUTOTUNE)"
      ],
      "metadata": {
        "id": "4RnSBz00nOZh"
      },
      "execution_count": 14,
      "outputs": []
    },
    {
      "cell_type": "code",
      "source": [
        "train_dataset=np.array(train_dataset)\n",
        "test_dataset=np.array(test_dataset)\n",
        "validation_dataset=np.array(test_dataset)"
      ],
      "metadata": {
        "id": "EjEMAjGKJR1f"
      },
      "execution_count": 15,
      "outputs": []
    },
    {
      "cell_type": "code",
      "source": [
        "type(train_dataset)"
      ],
      "metadata": {
        "colab": {
          "base_uri": "https://localhost:8080/"
        },
        "id": "fWPpna6sI2jh",
        "outputId": "d074f9e8-a131-4436-c817-68dbea56df9f"
      },
      "execution_count": 16,
      "outputs": [
        {
          "output_type": "execute_result",
          "data": {
            "text/plain": [
              "numpy.ndarray"
            ]
          },
          "metadata": {},
          "execution_count": 16
        }
      ]
    },
    {
      "cell_type": "code",
      "source": [
        "for images, labels in train_dataset.take(-1):\n",
        "    x_train = images\n",
        "    y_train = labels\n"
      ],
      "metadata": {
        "id": "ChTYNGAwO51u"
      },
      "execution_count": 17,
      "outputs": []
    },
    {
      "cell_type": "code",
      "source": [],
      "metadata": {
        "id": "-M6iogI2SqLv"
      },
      "execution_count": 17,
      "outputs": []
    },
    {
      "cell_type": "code",
      "source": [
        "for images, labels in test_dataset.take(-1):\n",
        "    x_test = images\n",
        "    y_test = labels\n"
      ],
      "metadata": {
        "id": "G16s-2FaQ8B0"
      },
      "execution_count": 18,
      "outputs": []
    },
    {
      "cell_type": "code",
      "source": [
        "for images, labels in validation_dataset.take(-1):\n",
        "    x_val = images\n",
        "    y_val = labels\n"
      ],
      "metadata": {
        "id": "NRDnxUfPQ_ie"
      },
      "execution_count": 19,
      "outputs": []
    },
    {
      "cell_type": "code",
      "source": [],
      "metadata": {
        "id": "El5szjoOFPMV"
      },
      "execution_count": 19,
      "outputs": []
    },
    {
      "cell_type": "markdown",
      "source": [
        "Configure the hyperparameters"
      ],
      "metadata": {
        "id": "z8d764q2Bezr"
      }
    },
    {
      "cell_type": "code",
      "source": [],
      "metadata": {
        "id": "kaClGnP8Ebqu"
      },
      "execution_count": 19,
      "outputs": []
    },
    {
      "cell_type": "code",
      "source": [
        "learning_rate = 0.001\n",
        "weight_decay = 0.0001\n",
        "batch_size = 256\n",
        "num_epochs = 100\n",
        "image_size = 72  # We'll resize input images to this size\n",
        "patch_size = 6  # Size of the patches to be extract from the input images\n",
        "num_patches = (image_size // patch_size) ** 2\n",
        "projection_dim = 64\n",
        "num_heads = 4\n",
        "num_classes = 100\n",
        "input_shape = (72, 72, 3)\n",
        "transformer_units = [\n",
        "    projection_dim * 2,\n",
        "    projection_dim,\n",
        "]  # Size of the transformer layers\n",
        "transformer_layers = 8\n",
        "mlp_head_units = [2048, 1024]  # Size of the dense layers of the final classifier"
      ],
      "metadata": {
        "id": "cuzhIDHyBduv"
      },
      "execution_count": 20,
      "outputs": []
    },
    {
      "cell_type": "markdown",
      "source": [
        "Use data augmentation"
      ],
      "metadata": {
        "id": "ayobqoqkBkZg"
      }
    },
    {
      "cell_type": "code",
      "source": [
        "data_augmentation = keras.Sequential(\n",
        "    [\n",
        "        layers.Normalization(),\n",
        "        layers.Resizing(image_size, image_size),\n",
        "        layers.RandomFlip(\"horizontal\"),\n",
        "        layers.RandomRotation(factor=0.02),\n",
        "        layers.RandomZoom(\n",
        "            height_factor=0.2, width_factor=0.2\n",
        "        ),\n",
        "    ],\n",
        "    name=\"data_augmentation\",\n",
        ")\n",
        "# Compute the mean and the variance of the training data for normalization.\n",
        "data_augmentation.layers[0].adapt(x_train)"
      ],
      "metadata": {
        "id": "PUmd265hBhrh"
      },
      "execution_count": 21,
      "outputs": []
    },
    {
      "cell_type": "markdown",
      "source": [
        "Implement Multilayer Perceptron"
      ],
      "metadata": {
        "id": "svA93u2UKH6B"
      }
    },
    {
      "cell_type": "code",
      "source": [
        "def mlp(x, hidden_units, dropout_rate):\n",
        "    for units in hidden_units:\n",
        "        x = layers.Dense(units, activation=tf.nn.gelu)(x)\n",
        "        x = layers.Dropout(dropout_rate)(x)\n",
        "    return x"
      ],
      "metadata": {
        "id": "4JfYfWChncPZ"
      },
      "execution_count": 22,
      "outputs": []
    },
    {
      "cell_type": "code",
      "source": [
        "# Patch Creation as a layer\n",
        "class Patches(layers.Layer):\n",
        "    def __init__(self, patch_size):\n",
        "        super().__init__()\n",
        "        self.patch_size = patch_size\n",
        "\n",
        "    def call(self, images):\n",
        "        batch_size = tf.shape(images)[0]\n",
        "        patches = tf.image.extract_patches(\n",
        "            images=images,\n",
        "            sizes=[1, self.patch_size, self.patch_size, 1],\n",
        "            strides=[1, self.patch_size, self.patch_size, 1],\n",
        "            rates=[1, 1, 1, 1],\n",
        "            padding=\"VALID\",\n",
        "        )\n",
        "        patch_dims = patches.shape[-1]\n",
        "        patches = tf.reshape(patches, [batch_size, -1, patch_dims])\n",
        "        return patches"
      ],
      "metadata": {
        "id": "01qaoNx5Le3i"
      },
      "execution_count": 23,
      "outputs": []
    },
    {
      "cell_type": "code",
      "source": [
        "tf.compat.v1.enable_eager_execution()\n",
        "\n"
      ],
      "metadata": {
        "id": "o71gBrdONUey"
      },
      "execution_count": 24,
      "outputs": []
    },
    {
      "cell_type": "code",
      "source": [
        "tf.experimental.numpy.experimental_enable_numpy_behavior()"
      ],
      "metadata": {
        "id": "lY1tcKK0WxdB"
      },
      "execution_count": 25,
      "outputs": []
    },
    {
      "cell_type": "code",
      "source": [
        "import matplotlib.pyplot as plt\n",
        "\n",
        "plt.figure(figsize=(4, 4))\n",
        "image = x_train[np.random.choice(range(x_train.shape[0]))]\n",
        "plt.imshow(image.astype(\"uint8\"))\n",
        "plt.axis(\"off\")\n",
        "\n",
        "resized_image = tf.image.resize(\n",
        "    tf.convert_to_tensor([image]), size=(image_size, image_size)\n",
        ")\n",
        "patches = Patches(patch_size)(resized_image)\n",
        "print(f\"Image size: {image_size} X {image_size}\")\n",
        "print(f\"Patch size: {patch_size} X {patch_size}\")\n",
        "print(f\"Patches per image: {patches.shape[1]}\")\n",
        "print(f\"Elements per patch: {patches.shape[-1]}\")\n",
        "\n",
        "n = int(np.sqrt(patches.shape[1]))\n",
        "plt.figure(figsize=(4, 4))\n",
        "for i, patch in enumerate(patches[0]):\n",
        "    ax = plt.subplot(n, n, i + 1)\n",
        "    patch_img = tf.reshape(patch, (patch_size, patch_size, 3))\n",
        "    plt.imshow(patch_img.numpy().astype(\"uint8\"))\n",
        "    plt.axis(\"off\")"
      ],
      "metadata": {
        "colab": {
          "base_uri": "https://localhost:8080/",
          "height": 744
        },
        "id": "RAOFRYMKLr_Q",
        "outputId": "2424d2a3-d0a2-4f88-9419-ee79a211e5ef"
      },
      "execution_count": 26,
      "outputs": [
        {
          "output_type": "stream",
          "name": "stdout",
          "text": [
            "Image size: 72 X 72\n",
            "Patch size: 6 X 6\n",
            "Patches per image: 144\n",
            "Elements per patch: 108\n"
          ]
        },
        {
          "output_type": "display_data",
          "data": {
            "text/plain": [
              "<Figure size 400x400 with 1 Axes>"
            ],
            "image/png": "[encoded data removed]"
          },
          "metadata": {}
        },
        {
          "output_type": "display_data",
          "data": {
            "text/plain": [
              "<Figure size 400x400 with 144 Axes>"
            ],
            "image/png": "[encoded data removed]"
          },
          "metadata": {}
        }
      ]
    },
    {
      "cell_type": "code",
      "source": [
        "class PatchEncoder(layers.Layer):\n",
        "    def __init__(self, num_patches, projection_dim):\n",
        "        super().__init__()\n",
        "        self.num_patches = num_patches\n",
        "        self.projection = layers.Dense(units=projection_dim)\n",
        "        self.position_embedding = layers.Embedding(\n",
        "            input_dim=num_patches, output_dim=projection_dim\n",
        "        )\n",
        "\n",
        "    def call(self, patch):\n",
        "        positions = tf.range(start=0, limit=self.num_patches, delta=1)\n",
        "        encoded = self.projection(patch) + self.position_embedding(positions)\n",
        "        return encoded"
      ],
      "metadata": {
        "id": "D_nQVFi_LsgW"
      },
      "execution_count": 27,
      "outputs": []
    },
    {
      "cell_type": "code",
      "source": [
        "\n",
        "def create_vit_classifier():\n",
        "    inputs = layers.Input(shape=input_shape)\n",
        "    # Augment data.\n",
        "    augmented = data_augmentation(inputs)\n",
        "    # Create patches.\n",
        "    patches = Patches(patch_size)(augmented)\n",
        "    # Encode patches.\n",
        "    encoded_patches = PatchEncoder(num_patches, projection_dim)(patches)\n",
        "\n",
        "    # Create multiple layers of the Transformer block.\n",
        "    for _ in range(transformer_layers):\n",
        "        # Layer normalization 1.\n",
        "        x1 = layers.LayerNormalization(epsilon=1e-6)(encoded_patches)\n",
        "        # Create a multi-head attention layer.\n",
        "        attention_output = layers.MultiHeadAttention(\n",
        "            num_heads=num_heads, key_dim=projection_dim, dropout=0.1\n",
        "        )(x1, x1)\n",
        "        # Skip connection 1.\n",
        "        x2 = layers.Add()([attention_output, encoded_patches])\n",
        "        # Layer normalization 2.\n",
        "        x3 = layers.LayerNormalization(epsilon=1e-6)(x2)\n",
        "        # MLP.\n",
        "        x3 = mlp(x3, hidden_units=transformer_units, dropout_rate=0.1)\n",
        "        # Skip connection 2.\n",
        "        encoded_patches = layers.Add()([x3, x2])\n",
        "\n",
        "    # Create a [batch_size, projection_dim] tensor.\n",
        "    representation = layers.LayerNormalization(epsilon=1e-6)(encoded_patches)\n",
        "    representation = layers.Flatten()(representation)\n",
        "    representation = layers.Dropout(0.5)(representation)\n",
        "    # Add MLP.\n",
        "    features = mlp(representation, hidden_units=mlp_head_units, dropout_rate=0.5)\n",
        "    # Classify outputs.\n",
        "    logits = layers.Dense(num_classes)(features)\n",
        "    # Create the Keras model.\n",
        "    model = keras.Model(inputs=inputs, outputs=logits)\n",
        "    return model"
      ],
      "metadata": {
        "id": "Qx6jlVS741Ah"
      },
      "execution_count": 28,
      "outputs": []
    },
    {
      "cell_type": "code",
      "source": [
        "def run_experiment(model):\n",
        "    optimizer = tfa.optimizers.AdamW(\n",
        "        learning_rate=learning_rate, weight_decay=weight_decay\n",
        "    )\n",
        "\n",
        "    model.compile(\n",
        "        optimizer=optimizer,\n",
        "        loss=keras.losses.SparseCategoricalCrossentropy(from_logits=True),\n",
        "        metrics=[\n",
        "            keras.metrics.SparseCategoricalAccuracy(name=\"accuracy\"),\n",
        "            keras.metrics.SparseTopKCategoricalAccuracy(5, name=\"top-5-accuracy\"),\n",
        "        ],\n",
        "    )\n",
        "\n",
        "    checkpoint_filepath = \"/Users/emilyseale/Downloads/checkpoint\"\n",
        "    checkpoint_callback = keras.callbacks.ModelCheckpoint(\n",
        "        checkpoint_filepath,\n",
        "        monitor=\"val_accuracy\",\n",
        "        save_best_only=True,\n",
        "        save_weights_only=True,\n",
        "    )\n",
        "\n",
        "    history = model.fit(\n",
        "        x=x_train,\n",
        "        y=y_train,\n",
        "        batch_size=batch_size,\n",
        "        epochs=num_epochs,\n",
        "      validation_data=(x_val, y_val),\n",
        "        callbacks=[checkpoint_callback],\n",
        "    )\n",
        "\n",
        "    model.load_weights(checkpoint_filepath)\n",
        "    _, accuracy, top_5_accuracy = model.evaluate(x_test, y_test)\n",
        "    print(f\"Test accuracy: {round(accuracy * 100, 2)}%\")\n",
        "    print(f\"Test top 5 accuracy: {round(top_5_accuracy * 100, 2)}%\")\n",
        "\n",
        "    return history\n",
        "\n",
        "\n",
        "vit_classifier = create_vit_classifier()\n",
        "history = run_experiment(vit_classifier)"
      ],
      "metadata": {
        "colab": {
          "base_uri": "https://localhost:8080/"
        },
        "id": "OlAmT5gX43VU",
        "outputId": "4458e46f-02b4-411f-e2f5-f06143bbe545"
      },
      "execution_count": 29,
      "outputs": [
        {
          "output_type": "stream",
          "name": "stdout",
          "text": [
            "Epoch 1/100\n",
            "1/1 [==============================] - 20s 20s/step - loss: 8.2985 - accuracy: 0.0000e+00 - top-5-accuracy: 0.0000e+00 - val_loss: 4.0469 - val_accuracy: 0.2000 - val_top-5-accuracy: 0.6000\n",
            "Epoch 2/100\n",
            "1/1 [==============================] - 3s 3s/step - loss: 4.2499 - accuracy: 0.3529 - top-5-accuracy: 0.5882 - val_loss: 5.7606 - val_accuracy: 0.3000 - val_top-5-accuracy: 0.6000\n",
            "Epoch 3/100\n",
            "1/1 [==============================] - 2s 2s/step - loss: 2.4144 - accuracy: 0.5294 - top-5-accuracy: 0.8235 - val_loss: 9.9426 - val_accuracy: 0.2333 - val_top-5-accuracy: 0.5333\n",
            "Epoch 4/100\n",
            "1/1 [==============================] - 2s 2s/step - loss: 3.9259 - accuracy: 0.4118 - top-5-accuracy: 0.8824 - val_loss: 9.5223 - val_accuracy: 0.2000 - val_top-5-accuracy: 0.6000\n",
            "Epoch 5/100\n",
            "1/1 [==============================] - 2s 2s/step - loss: 3.2043 - accuracy: 0.3529 - top-5-accuracy: 1.0000 - val_loss: 10.7707 - val_accuracy: 0.3000 - val_top-5-accuracy: 0.6000\n",
            "Epoch 6/100\n",
            "1/1 [==============================] - 2s 2s/step - loss: 4.2400 - accuracy: 0.5882 - top-5-accuracy: 0.9412 - val_loss: 9.2722 - val_accuracy: 0.3667 - val_top-5-accuracy: 0.5667\n",
            "Epoch 7/100\n",
            "1/1 [==============================] - 2s 2s/step - loss: 1.3904 - accuracy: 0.5882 - top-5-accuracy: 1.0000 - val_loss: 8.4329 - val_accuracy: 0.2667 - val_top-5-accuracy: 0.6000\n",
            "Epoch 8/100\n",
            "1/1 [==============================] - 2s 2s/step - loss: 2.4049 - accuracy: 0.6471 - top-5-accuracy: 0.9412 - val_loss: 9.5956 - val_accuracy: 0.2000 - val_top-5-accuracy: 0.5667\n",
            "Epoch 9/100\n",
            "1/1 [==============================] - 2s 2s/step - loss: 1.7485 - accuracy: 0.5882 - top-5-accuracy: 1.0000 - val_loss: 11.8550 - val_accuracy: 0.2000 - val_top-5-accuracy: 0.5333\n",
            "Epoch 10/100\n",
            "1/1 [==============================] - 2s 2s/step - loss: 2.2745 - accuracy: 0.6471 - top-5-accuracy: 1.0000 - val_loss: 15.2398 - val_accuracy: 0.1667 - val_top-5-accuracy: 0.5333\n",
            "Epoch 11/100\n",
            "1/1 [==============================] - 3s 3s/step - loss: 3.4387 - accuracy: 0.7647 - top-5-accuracy: 1.0000 - val_loss: 17.4178 - val_accuracy: 0.2667 - val_top-5-accuracy: 0.5667\n",
            "Epoch 12/100\n",
            "1/1 [==============================] - 2s 2s/step - loss: 0.6345 - accuracy: 0.9412 - top-5-accuracy: 1.0000 - val_loss: 19.0022 - val_accuracy: 0.3000 - val_top-5-accuracy: 0.6000\n",
            "Epoch 13/100\n",
            "1/1 [==============================] - 2s 2s/step - loss: 2.0747 - accuracy: 0.7059 - top-5-accuracy: 1.0000 - val_loss: 17.5329 - val_accuracy: 0.3000 - val_top-5-accuracy: 0.6000\n",
            "Epoch 14/100\n",
            "1/1 [==============================] - 2s 2s/step - loss: 0.0941 - accuracy: 0.9412 - top-5-accuracy: 1.0000 - val_loss: 17.8971 - val_accuracy: 0.1333 - val_top-5-accuracy: 0.6000\n",
            "Epoch 15/100\n",
            "1/1 [==============================] - 2s 2s/step - loss: 0.5704 - accuracy: 0.8824 - top-5-accuracy: 1.0000 - val_loss: 19.1280 - val_accuracy: 0.1667 - val_top-5-accuracy: 0.5667\n",
            "Epoch 16/100\n",
            "1/1 [==============================] - 2s 2s/step - loss: 1.0628 - accuracy: 0.8235 - top-5-accuracy: 1.0000 - val_loss: 20.7123 - val_accuracy: 0.1667 - val_top-5-accuracy: 0.5333\n",
            "Epoch 17/100\n",
            "1/1 [==============================] - 2s 2s/step - loss: 3.4119 - accuracy: 0.8235 - top-5-accuracy: 1.0000 - val_loss: 20.7731 - val_accuracy: 0.1667 - val_top-5-accuracy: 0.5333\n",
            "Epoch 18/100\n",
            "1/1 [==============================] - 4s 4s/step - loss: 1.6142 - accuracy: 0.8824 - top-5-accuracy: 1.0000 - val_loss: 20.1302 - val_accuracy: 0.1667 - val_top-5-accuracy: 0.5667\n",
            "Epoch 19/100\n",
            "1/1 [==============================] - 2s 2s/step - loss: 2.2782 - accuracy: 0.7059 - top-5-accuracy: 1.0000 - val_loss: 19.6595 - val_accuracy: 0.2667 - val_top-5-accuracy: 0.5667\n",
            "Epoch 20/100\n",
            "1/1 [==============================] - 2s 2s/step - loss: 2.6327 - accuracy: 0.7059 - top-5-accuracy: 1.0000 - val_loss: 20.0437 - val_accuracy: 0.2000 - val_top-5-accuracy: 0.6667\n",
            "Epoch 21/100\n",
            "1/1 [==============================] - 2s 2s/step - loss: 0.5125 - accuracy: 0.8824 - top-5-accuracy: 1.0000 - val_loss: 20.1952 - val_accuracy: 0.2000 - val_top-5-accuracy: 0.6667\n",
            "Epoch 22/100\n",
            "1/1 [==============================] - 2s 2s/step - loss: 0.0808 - accuracy: 0.9412 - top-5-accuracy: 1.0000 - val_loss: 22.3771 - val_accuracy: 0.2000 - val_top-5-accuracy: 0.6333\n",
            "Epoch 23/100\n",
            "1/1 [==============================] - 2s 2s/step - loss: 1.3166 - accuracy: 0.8235 - top-5-accuracy: 1.0000 - val_loss: 24.0352 - val_accuracy: 0.2333 - val_top-5-accuracy: 0.6333\n",
            "Epoch 24/100\n",
            "1/1 [==============================] - 2s 2s/step - loss: 0.0237 - accuracy: 1.0000 - top-5-accuracy: 1.0000 - val_loss: 25.5429 - val_accuracy: 0.2000 - val_top-5-accuracy: 0.6333\n",
            "Epoch 25/100\n",
            "1/1 [==============================] - 2s 2s/step - loss: 1.7882 - accuracy: 0.8235 - top-5-accuracy: 1.0000 - val_loss: 25.1796 - val_accuracy: 0.2333 - val_top-5-accuracy: 0.6333\n",
            "Epoch 26/100\n",
            "1/1 [==============================] - 2s 2s/step - loss: 0.4617 - accuracy: 0.9412 - top-5-accuracy: 1.0000 - val_loss: 25.5222 - val_accuracy: 0.2333 - val_top-5-accuracy: 0.6667\n",
            "Epoch 27/100\n",
            "1/1 [==============================] - 2s 2s/step - loss: 1.2148 - accuracy: 0.9412 - top-5-accuracy: 1.0000 - val_loss: 26.2700 - val_accuracy: 0.2667 - val_top-5-accuracy: 0.6000\n",
            "Epoch 28/100\n",
            "1/1 [==============================] - 2s 2s/step - loss: 1.4133 - accuracy: 0.8824 - top-5-accuracy: 1.0000 - val_loss: 26.5682 - val_accuracy: 0.2667 - val_top-5-accuracy: 0.6000\n",
            "Epoch 29/100\n",
            "1/1 [==============================] - 3s 3s/step - loss: 0.1779 - accuracy: 0.9412 - top-5-accuracy: 1.0000 - val_loss: 27.0420 - val_accuracy: 0.2667 - val_top-5-accuracy: 0.6333\n",
            "Epoch 30/100\n",
            "1/1 [==============================] - 2s 2s/step - loss: 0.9728 - accuracy: 0.9412 - top-5-accuracy: 1.0000 - val_loss: 27.7748 - val_accuracy: 0.3000 - val_top-5-accuracy: 0.6333\n",
            "Epoch 31/100\n",
            "1/1 [==============================] - 2s 2s/step - loss: 1.5117e-05 - accuracy: 1.0000 - top-5-accuracy: 1.0000 - val_loss: 28.8109 - val_accuracy: 0.3333 - val_top-5-accuracy: 0.6333\n",
            "Epoch 32/100\n",
            "1/1 [==============================] - 2s 2s/step - loss: 0.2200 - accuracy: 0.8824 - top-5-accuracy: 1.0000 - val_loss: 29.4339 - val_accuracy: 0.3667 - val_top-5-accuracy: 0.6333\n",
            "Epoch 33/100\n",
            "1/1 [==============================] - 2s 2s/step - loss: 0.0214 - accuracy: 1.0000 - top-5-accuracy: 1.0000 - val_loss: 30.2251 - val_accuracy: 0.2667 - val_top-5-accuracy: 0.6000\n",
            "Epoch 34/100\n",
            "1/1 [==============================] - 2s 2s/step - loss: 1.2645 - accuracy: 0.8824 - top-5-accuracy: 1.0000 - val_loss: 30.8171 - val_accuracy: 0.2667 - val_top-5-accuracy: 0.6000\n",
            "Epoch 35/100\n",
            "1/1 [==============================] - 2s 2s/step - loss: 3.8076e-06 - accuracy: 1.0000 - top-5-accuracy: 1.0000 - val_loss: 31.8753 - val_accuracy: 0.2000 - val_top-5-accuracy: 0.6000\n",
            "Epoch 36/100\n",
            "1/1 [==============================] - 3s 3s/step - loss: 0.4540 - accuracy: 0.9412 - top-5-accuracy: 1.0000 - val_loss: 32.9069 - val_accuracy: 0.1667 - val_top-5-accuracy: 0.6000\n",
            "Epoch 37/100\n",
            "1/1 [==============================] - 2s 2s/step - loss: 0.4475 - accuracy: 0.9412 - top-5-accuracy: 1.0000 - val_loss: 33.9337 - val_accuracy: 0.1333 - val_top-5-accuracy: 0.5667\n",
            "Epoch 38/100\n",
            "1/1 [==============================] - 2s 2s/step - loss: 0.4126 - accuracy: 0.9412 - top-5-accuracy: 1.0000 - val_loss: 34.8420 - val_accuracy: 0.1333 - val_top-5-accuracy: 0.6000\n",
            "Epoch 39/100\n",
            "1/1 [==============================] - 2s 2s/step - loss: 0.3368 - accuracy: 0.8824 - top-5-accuracy: 1.0000 - val_loss: 34.4468 - val_accuracy: 0.2000 - val_top-5-accuracy: 0.6333\n",
            "Epoch 40/100\n",
            "1/1 [==============================] - 2s 2s/step - loss: 0.2620 - accuracy: 0.9412 - top-5-accuracy: 1.0000 - val_loss: 33.8545 - val_accuracy: 0.2000 - val_top-5-accuracy: 0.6000\n",
            "Epoch 41/100\n",
            "1/1 [==============================] - 2s 2s/step - loss: 0.3882 - accuracy: 0.9412 - top-5-accuracy: 1.0000 - val_loss: 33.4517 - val_accuracy: 0.2000 - val_top-5-accuracy: 0.6333\n",
            "Epoch 42/100\n",
            "1/1 [==============================] - 3s 3s/step - loss: 0.0795 - accuracy: 0.9412 - top-5-accuracy: 1.0000 - val_loss: 33.0436 - val_accuracy: 0.2333 - val_top-5-accuracy: 0.6333\n",
            "Epoch 43/100\n",
            "1/1 [==============================] - 2s 2s/step - loss: 0.9554 - accuracy: 0.8824 - top-5-accuracy: 1.0000 - val_loss: 33.7527 - val_accuracy: 0.2000 - val_top-5-accuracy: 0.6333\n",
            "Epoch 44/100\n",
            "1/1 [==============================] - 2s 2s/step - loss: 0.0886 - accuracy: 0.9412 - top-5-accuracy: 1.0000 - val_loss: 34.5805 - val_accuracy: 0.2000 - val_top-5-accuracy: 0.6667\n",
            "Epoch 45/100\n",
            "1/1 [==============================] - 2s 2s/step - loss: 0.0000e+00 - accuracy: 1.0000 - top-5-accuracy: 1.0000 - val_loss: 35.4025 - val_accuracy: 0.2000 - val_top-5-accuracy: 0.6333\n",
            "Epoch 46/100\n",
            "1/1 [==============================] - 2s 2s/step - loss: 3.0419e-05 - accuracy: 1.0000 - top-5-accuracy: 1.0000 - val_loss: 36.2996 - val_accuracy: 0.2000 - val_top-5-accuracy: 0.6333\n",
            "Epoch 47/100\n",
            "1/1 [==============================] - 2s 2s/step - loss: 7.0123e-09 - accuracy: 1.0000 - top-5-accuracy: 1.0000 - val_loss: 37.3888 - val_accuracy: 0.2000 - val_top-5-accuracy: 0.6000\n",
            "Epoch 48/100\n",
            "1/1 [==============================] - 2s 2s/step - loss: 3.5579e-04 - accuracy: 1.0000 - top-5-accuracy: 1.0000 - val_loss: 38.4893 - val_accuracy: 0.2000 - val_top-5-accuracy: 0.6000\n",
            "Epoch 49/100\n",
            "1/1 [==============================] - 3s 3s/step - loss: 0.0051 - accuracy: 1.0000 - top-5-accuracy: 1.0000 - val_loss: 39.5520 - val_accuracy: 0.2000 - val_top-5-accuracy: 0.6000\n",
            "Epoch 50/100\n",
            "1/1 [==============================] - 2s 2s/step - loss: 1.7092 - accuracy: 0.9412 - top-5-accuracy: 1.0000 - val_loss: 41.7157 - val_accuracy: 0.2000 - val_top-5-accuracy: 0.6000\n",
            "Epoch 51/100\n",
            "1/1 [==============================] - 2s 2s/step - loss: 1.3674 - accuracy: 0.8824 - top-5-accuracy: 1.0000 - val_loss: 41.3183 - val_accuracy: 0.2000 - val_top-5-accuracy: 0.5667\n",
            "Epoch 52/100\n",
            "1/1 [==============================] - 2s 2s/step - loss: 0.0669 - accuracy: 0.9412 - top-5-accuracy: 1.0000 - val_loss: 40.8251 - val_accuracy: 0.2000 - val_top-5-accuracy: 0.6000\n",
            "Epoch 53/100\n",
            "1/1 [==============================] - 2s 2s/step - loss: 1.2201e-06 - accuracy: 1.0000 - top-5-accuracy: 1.0000 - val_loss: 40.5744 - val_accuracy: 0.2000 - val_top-5-accuracy: 0.6000\n",
            "Epoch 54/100\n",
            "1/1 [==============================] - 2s 2s/step - loss: 0.2059 - accuracy: 0.9412 - top-5-accuracy: 1.0000 - val_loss: 40.3174 - val_accuracy: 0.2333 - val_top-5-accuracy: 0.6000\n",
            "Epoch 55/100\n",
            "1/1 [==============================] - 2s 2s/step - loss: 0.0000e+00 - accuracy: 1.0000 - top-5-accuracy: 1.0000 - val_loss: 40.2015 - val_accuracy: 0.2333 - val_top-5-accuracy: 0.6333\n",
            "Epoch 56/100\n",
            "1/1 [==============================] - 2s 2s/step - loss: 9.8229e-04 - accuracy: 1.0000 - top-5-accuracy: 1.0000 - val_loss: 40.1345 - val_accuracy: 0.2333 - val_top-5-accuracy: 0.6333\n",
            "Epoch 57/100\n",
            "1/1 [==============================] - 2s 2s/step - loss: 0.7971 - accuracy: 0.9412 - top-5-accuracy: 1.0000 - val_loss: 40.2669 - val_accuracy: 0.2333 - val_top-5-accuracy: 0.6333\n",
            "Epoch 58/100\n",
            "1/1 [==============================] - 2s 2s/step - loss: 0.0000e+00 - accuracy: 1.0000 - top-5-accuracy: 1.0000 - val_loss: 40.5148 - val_accuracy: 0.2667 - val_top-5-accuracy: 0.6333\n",
            "Epoch 59/100\n",
            "1/1 [==============================] - 2s 2s/step - loss: 0.6369 - accuracy: 0.8824 - top-5-accuracy: 1.0000 - val_loss: 39.7453 - val_accuracy: 0.2333 - val_top-5-accuracy: 0.6333\n",
            "Epoch 60/100\n",
            "1/1 [==============================] - 2s 2s/step - loss: 0.3611 - accuracy: 0.9412 - top-5-accuracy: 1.0000 - val_loss: 38.5333 - val_accuracy: 0.2333 - val_top-5-accuracy: 0.6333\n",
            "Epoch 61/100\n",
            "1/1 [==============================] - 2s 2s/step - loss: 0.0000e+00 - accuracy: 1.0000 - top-5-accuracy: 1.0000 - val_loss: 38.0111 - val_accuracy: 0.2333 - val_top-5-accuracy: 0.6333\n",
            "Epoch 62/100\n",
            "1/1 [==============================] - 3s 3s/step - loss: 0.2317 - accuracy: 0.9412 - top-5-accuracy: 1.0000 - val_loss: 39.0375 - val_accuracy: 0.2333 - val_top-5-accuracy: 0.6333\n",
            "Epoch 63/100\n",
            "1/1 [==============================] - 2s 2s/step - loss: 3.0019e-05 - accuracy: 1.0000 - top-5-accuracy: 1.0000 - val_loss: 40.0601 - val_accuracy: 0.2333 - val_top-5-accuracy: 0.6333\n",
            "Epoch 64/100\n",
            "1/1 [==============================] - 2s 2s/step - loss: 0.0000e+00 - accuracy: 1.0000 - top-5-accuracy: 1.0000 - val_loss: 41.3077 - val_accuracy: 0.2667 - val_top-5-accuracy: 0.6333\n",
            "Epoch 65/100\n",
            "1/1 [==============================] - 2s 2s/step - loss: 7.0123e-08 - accuracy: 1.0000 - top-5-accuracy: 1.0000 - val_loss: 42.4587 - val_accuracy: 0.2667 - val_top-5-accuracy: 0.6000\n",
            "Epoch 66/100\n",
            "1/1 [==============================] - 2s 2s/step - loss: 0.0032 - accuracy: 1.0000 - top-5-accuracy: 1.0000 - val_loss: 43.4514 - val_accuracy: 0.2667 - val_top-5-accuracy: 0.6000\n",
            "Epoch 67/100\n",
            "1/1 [==============================] - 2s 2s/step - loss: 0.0102 - accuracy: 1.0000 - top-5-accuracy: 1.0000 - val_loss: 44.1891 - val_accuracy: 0.2667 - val_top-5-accuracy: 0.6667\n",
            "Epoch 68/100\n",
            "1/1 [==============================] - 3s 3s/step - loss: 3.3096 - accuracy: 0.8235 - top-5-accuracy: 1.0000 - val_loss: 43.1519 - val_accuracy: 0.3000 - val_top-5-accuracy: 0.6333\n",
            "Epoch 69/100\n",
            "1/1 [==============================] - 2s 2s/step - loss: 1.6830e-07 - accuracy: 1.0000 - top-5-accuracy: 1.0000 - val_loss: 42.3478 - val_accuracy: 0.3000 - val_top-5-accuracy: 0.6333\n",
            "Epoch 70/100\n",
            "1/1 [==============================] - 2s 2s/step - loss: 0.0045 - accuracy: 1.0000 - top-5-accuracy: 1.0000 - val_loss: 41.7205 - val_accuracy: 0.3000 - val_top-5-accuracy: 0.6333\n",
            "Epoch 71/100\n",
            "1/1 [==============================] - 2s 2s/step - loss: 0.2714 - accuracy: 0.9412 - top-5-accuracy: 1.0000 - val_loss: 41.7803 - val_accuracy: 0.3000 - val_top-5-accuracy: 0.6333\n",
            "Epoch 72/100\n",
            "1/1 [==============================] - 2s 2s/step - loss: 0.0016 - accuracy: 1.0000 - top-5-accuracy: 1.0000 - val_loss: 42.3246 - val_accuracy: 0.2667 - val_top-5-accuracy: 0.6333\n",
            "Epoch 73/100\n",
            "1/1 [==============================] - 2s 2s/step - loss: 8.1644e-05 - accuracy: 1.0000 - top-5-accuracy: 1.0000 - val_loss: 43.5431 - val_accuracy: 0.2333 - val_top-5-accuracy: 0.5667\n",
            "Epoch 74/100\n",
            "1/1 [==============================] - 2s 2s/step - loss: 0.8870 - accuracy: 0.9412 - top-5-accuracy: 1.0000 - val_loss: 43.7250 - val_accuracy: 0.2333 - val_top-5-accuracy: 0.6333\n",
            "Epoch 75/100\n",
            "1/1 [==============================] - 3s 3s/step - loss: 0.0000e+00 - accuracy: 1.0000 - top-5-accuracy: 1.0000 - val_loss: 44.0457 - val_accuracy: 0.2333 - val_top-5-accuracy: 0.6333\n",
            "Epoch 76/100\n",
            "1/1 [==============================] - 2s 2s/step - loss: 9.1160e-08 - accuracy: 1.0000 - top-5-accuracy: 1.0000 - val_loss: 44.4228 - val_accuracy: 0.2333 - val_top-5-accuracy: 0.6667\n",
            "Epoch 77/100\n",
            "1/1 [==============================] - 2s 2s/step - loss: 0.8982 - accuracy: 0.9412 - top-5-accuracy: 1.0000 - val_loss: 44.4541 - val_accuracy: 0.2333 - val_top-5-accuracy: 0.6333\n",
            "Epoch 78/100\n",
            "1/1 [==============================] - 2s 2s/step - loss: 0.2037 - accuracy: 0.9412 - top-5-accuracy: 1.0000 - val_loss: 44.6434 - val_accuracy: 0.2333 - val_top-5-accuracy: 0.6000\n",
            "Epoch 79/100\n",
            "1/1 [==============================] - 2s 2s/step - loss: 0.0017 - accuracy: 1.0000 - top-5-accuracy: 1.0000 - val_loss: 45.2537 - val_accuracy: 0.2333 - val_top-5-accuracy: 0.6000\n",
            "Epoch 80/100\n",
            "1/1 [==============================] - 2s 2s/step - loss: 2.1037e-08 - accuracy: 1.0000 - top-5-accuracy: 1.0000 - val_loss: 45.8710 - val_accuracy: 0.2000 - val_top-5-accuracy: 0.6000\n",
            "Epoch 81/100\n",
            "1/1 [==============================] - 2s 2s/step - loss: 1.4251 - accuracy: 0.9412 - top-5-accuracy: 1.0000 - val_loss: 46.9799 - val_accuracy: 0.2000 - val_top-5-accuracy: 0.5667\n",
            "Epoch 82/100\n",
            "1/1 [==============================] - 2s 2s/step - loss: 0.6960 - accuracy: 0.9412 - top-5-accuracy: 1.0000 - val_loss: 47.5549 - val_accuracy: 0.2000 - val_top-5-accuracy: 0.5667\n",
            "Epoch 83/100\n",
            "1/1 [==============================] - 2s 2s/step - loss: 0.0000e+00 - accuracy: 1.0000 - top-5-accuracy: 1.0000 - val_loss: 48.2102 - val_accuracy: 0.2000 - val_top-5-accuracy: 0.5667\n",
            "Epoch 84/100\n",
            "1/1 [==============================] - 2s 2s/step - loss: 1.6272 - accuracy: 0.9412 - top-5-accuracy: 1.0000 - val_loss: 49.4514 - val_accuracy: 0.2000 - val_top-5-accuracy: 0.5667\n",
            "Epoch 85/100\n",
            "1/1 [==============================] - 2s 2s/step - loss: 0.1089 - accuracy: 0.9412 - top-5-accuracy: 1.0000 - val_loss: 51.5140 - val_accuracy: 0.2333 - val_top-5-accuracy: 0.6000\n",
            "Epoch 86/100\n",
            "1/1 [==============================] - 2s 2s/step - loss: 0.0000e+00 - accuracy: 1.0000 - top-5-accuracy: 1.0000 - val_loss: 53.3789 - val_accuracy: 0.2333 - val_top-5-accuracy: 0.6000\n",
            "Epoch 87/100\n",
            "1/1 [==============================] - 2s 2s/step - loss: 0.8882 - accuracy: 0.9412 - top-5-accuracy: 1.0000 - val_loss: 56.0286 - val_accuracy: 0.2333 - val_top-5-accuracy: 0.6000\n",
            "Epoch 88/100\n",
            "1/1 [==============================] - 3s 3s/step - loss: 2.1378 - accuracy: 0.8824 - top-5-accuracy: 1.0000 - val_loss: 55.8498 - val_accuracy: 0.2000 - val_top-5-accuracy: 0.6333\n",
            "Epoch 89/100\n",
            "1/1 [==============================] - 2s 2s/step - loss: 3.9832 - accuracy: 0.8824 - top-5-accuracy: 1.0000 - val_loss: 55.0380 - val_accuracy: 0.2000 - val_top-5-accuracy: 0.6667\n",
            "Epoch 90/100\n",
            "1/1 [==============================] - 2s 2s/step - loss: 2.0283e-05 - accuracy: 1.0000 - top-5-accuracy: 1.0000 - val_loss: 54.6849 - val_accuracy: 0.2333 - val_top-5-accuracy: 0.6667\n",
            "Epoch 91/100\n",
            "1/1 [==============================] - 2s 2s/step - loss: 0.0343 - accuracy: 1.0000 - top-5-accuracy: 1.0000 - val_loss: 55.0784 - val_accuracy: 0.2667 - val_top-5-accuracy: 0.6333\n",
            "Epoch 92/100\n",
            "1/1 [==============================] - 2s 2s/step - loss: 5.6382 - accuracy: 0.8824 - top-5-accuracy: 1.0000 - val_loss: 57.5898 - val_accuracy: 0.2333 - val_top-5-accuracy: 0.6333\n",
            "Epoch 93/100\n",
            "1/1 [==============================] - 2s 2s/step - loss: 0.6200 - accuracy: 0.9412 - top-5-accuracy: 1.0000 - val_loss: 60.0296 - val_accuracy: 0.2333 - val_top-5-accuracy: 0.6333\n",
            "Epoch 94/100\n",
            "1/1 [==============================] - 2s 2s/step - loss: 0.6807 - accuracy: 0.9412 - top-5-accuracy: 1.0000 - val_loss: 62.1523 - val_accuracy: 0.2333 - val_top-5-accuracy: 0.5667\n",
            "Epoch 95/100\n",
            "1/1 [==============================] - 3s 3s/step - loss: 2.1690 - accuracy: 0.9412 - top-5-accuracy: 1.0000 - val_loss: 64.8698 - val_accuracy: 0.1667 - val_top-5-accuracy: 0.5667\n",
            "Epoch 96/100\n",
            "1/1 [==============================] - 2s 2s/step - loss: 0.0011 - accuracy: 1.0000 - top-5-accuracy: 1.0000 - val_loss: 67.2429 - val_accuracy: 0.1667 - val_top-5-accuracy: 0.5667\n",
            "Epoch 97/100\n",
            "1/1 [==============================] - 2s 2s/step - loss: 3.2125 - accuracy: 0.8235 - top-5-accuracy: 1.0000 - val_loss: 59.5274 - val_accuracy: 0.2000 - val_top-5-accuracy: 0.5667\n",
            "Epoch 98/100\n",
            "1/1 [==============================] - 2s 2s/step - loss: 0.0000e+00 - accuracy: 1.0000 - top-5-accuracy: 1.0000 - val_loss: 54.9361 - val_accuracy: 0.2333 - val_top-5-accuracy: 0.6000\n",
            "Epoch 99/100\n",
            "1/1 [==============================] - 2s 2s/step - loss: 1.0420e-04 - accuracy: 1.0000 - top-5-accuracy: 1.0000 - val_loss: 53.7428 - val_accuracy: 0.2667 - val_top-5-accuracy: 0.6000\n",
            "Epoch 100/100\n",
            "1/1 [==============================] - 2s 2s/step - loss: 0.0100 - accuracy: 1.0000 - top-5-accuracy: 1.0000 - val_loss: 53.2955 - val_accuracy: 0.3000 - val_top-5-accuracy: 0.6000\n",
            "1/1 [==============================] - 1s 859ms/step - loss: 10.2826 - accuracy: 0.2333 - top-5-accuracy: 0.5667\n",
            "Test accuracy: 23.33%\n",
            "Test top 5 accuracy: 56.67%\n"
          ]
        }
      ]
    },
    {
      "cell_type": "code",
      "source": [],
      "metadata": {
        "id": "UjDigmmf480L"
      },
      "execution_count": 29,
      "outputs": []
    },
    {
      "cell_type": "code",
      "source": [],
      "metadata": {
        "id": "wZFCFtukFo-7"
      },
      "execution_count": 29,
      "outputs": []
    }
  ]
}